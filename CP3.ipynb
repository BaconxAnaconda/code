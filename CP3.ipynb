{
 "cells": [
  {
   "cell_type": "code",
   "execution_count": 3,
   "id": "1830068a",
   "metadata": {},
   "outputs": [
    {
     "name": "stdout",
     "output_type": "stream",
     "text": [
      "5\n",
      "6\n",
      "69\n",
      "the maximum number is 69.0\n"
     ]
    }
   ],
   "source": [
    "def maxi(a, b, c):\n",
    "    if (a >= b) and (a >= c):\n",
    "        maxi = a\n",
    "    elif (b >= a) and (b >= c):\n",
    "        maxi = b\n",
    "    else:\n",
    "        maxi = c\n",
    "    return maxi\n",
    "a = float(input())\n",
    "b = float(input())\n",
    "c = float(input())\n",
    "print(\"the maximum number is\", maxi(a, b, c))"
   ]
  },
  {
   "cell_type": "code",
   "execution_count": 4,
   "id": "ba60a453",
   "metadata": {},
   "outputs": [
    {
     "name": "stdout",
     "output_type": "stream",
     "text": [
      "5\n",
      "6\n",
      "(11.0, -1.0)\n"
     ]
    }
   ],
   "source": [
    "def calculation(a,b):\n",
    "    addi=a+b\n",
    "    subs=a-b\n",
    "    return(addi,subs)\n",
    "a = float(input())\n",
    "b = float(input())\n",
    "print(calculation(a,b))"
   ]
  },
  {
   "cell_type": "code",
   "execution_count": 1,
   "id": "40ee4e4b",
   "metadata": {},
   "outputs": [
    {
     "name": "stdout",
     "output_type": "stream",
     "text": [
      "Enter number of elements : 2\n",
      "69\n",
      "69\n",
      "138\n"
     ]
    }
   ],
   "source": [
    "list=[]\n",
    "n = int(input(\"Enter number of elements : \"))\n",
    "for i in range(0, n):\n",
    "    element = int(input())\n",
    "    list.append(element)\n",
    "def listsum(list):\n",
    "    res=0\n",
    "    for i in list:\n",
    "        res += i\n",
    "    return res\n",
    "print(listsum(list))"
   ]
  },
  {
   "cell_type": "code",
   "execution_count": 2,
   "id": "916d95e8",
   "metadata": {},
   "outputs": [
    {
     "name": "stdout",
     "output_type": "stream",
     "text": [
      "the sum of the even of these numbers is 51\n",
      "the multiplication of the odd numbers is 90\n"
     ]
    }
   ],
   "source": [
    "def sum(list):\n",
    "    result=0\n",
    "    for i in list:\n",
    "        result+=i\n",
    "    return result\n",
    "def pl(list):\n",
    "    result1=1\n",
    "    for i in list:\n",
    "        result1*=i\n",
    "    return result1\n",
    "list1=[11, 5, 17, 18, 23]\n",
    "list2=[]\n",
    "list3=[]\n",
    "for i in range (0,len(list1),2):\n",
    "    list2.append(list1[i])\n",
    "    x=sum(list2)\n",
    "print(\"the sum of the even of these numbers is\",x)\n",
    "for s in range(1,len(list1),2):\n",
    "    list3.append(list1[s])\n",
    "    c=pl(list3)\n",
    "print(\"the multiplication of the odd numbers is\", c)"
   ]
  },
  {
   "cell_type": "code",
   "execution_count": 18,
   "id": "2e2a9e7e",
   "metadata": {},
   "outputs": [
    {
     "name": "stdout",
     "output_type": "stream",
     "text": [
      "green-red-yellow-black-white\n",
      "black-green-red-white-yellow\n"
     ]
    }
   ],
   "source": [
    "items=[p for p in input().split('-')]\n",
    "items.sort()\n",
    "print('-'.join(items))"
   ]
  },
  {
   "cell_type": "code",
   "execution_count": 20,
   "id": "51e0188c",
   "metadata": {},
   "outputs": [
    {
     "name": "stdout",
     "output_type": "stream",
     "text": [
      "100,150,180\n",
      "[18, 22, 24]\n"
     ]
    }
   ],
   "source": [
    "import math\n",
    "H = 30\n",
    "C = 50\n",
    "D = input()\n",
    "D = D.split(',')\n",
    "list = []\n",
    "for D in D:\n",
    "    Q = round(math.sqrt(2 * C * int(D) /H ))\n",
    "    list.append(Q)\n",
    "print(list)"
   ]
  },
  {
   "cell_type": "code",
   "execution_count": null,
   "id": "dde1c9b4",
   "metadata": {},
   "outputs": [],
   "source": []
  }
 ],
 "metadata": {
  "kernelspec": {
   "display_name": "Python 3",
   "language": "python",
   "name": "python3"
  },
  "language_info": {
   "codemirror_mode": {
    "name": "ipython",
    "version": 3
   },
   "file_extension": ".py",
   "mimetype": "text/x-python",
   "name": "python",
   "nbconvert_exporter": "python",
   "pygments_lexer": "ipython3",
   "version": "3.8.8"
  }
 },
 "nbformat": 4,
 "nbformat_minor": 5
}
